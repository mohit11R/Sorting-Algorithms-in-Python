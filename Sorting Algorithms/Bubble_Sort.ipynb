{
 "cells": [
  {
   "cell_type": "markdown",
   "metadata": {},
   "source": [
    "## Bubble Sort\n",
    "\n",
    "##### Algorithm\n",
    "       Bubble Sort is the simplest sorting algorithm that works by repeatedly swapping the adjacent elements if they are in            wrong order."
   ]
  },
  {
   "cell_type": "markdown",
   "metadata": {},
   "source": [
    "##### Time Complexity\n",
    "    1) Worst and Average Case:- O(N^2)\n",
    "    2) Best case:- O(N)\n",
    "    \n",
    "##### Space complexity\n",
    "    1) Best case- O(1)"
   ]
  },
  {
   "cell_type": "code",
   "execution_count": 2,
   "metadata": {},
   "outputs": [
    {
     "name": "stdout",
     "output_type": "stream",
     "text": [
      "Enter the values:9 6 7 5 2 3 1 4 8\n",
      "[1, 2, 3, 4, 5, 6, 7, 8, 9]\n"
     ]
    }
   ],
   "source": [
    "#BRUTE FORCE\n",
    "\n",
    "def bubble_sort(arr):\n",
    "    for i in range(0,len(arr)-1):\n",
    "        for j in range(0,len(arr)-1-i):\n",
    "            if arr[j] > arr[j+1]:\n",
    "                arr[j],arr[j+1] = arr[j+1],arr[j]\n",
    "    \n",
    "    return arr\n",
    "    \n",
    "    \n",
    "arr = list(map(int,input(\"Enter the values:\").split()))\n",
    "print(bubble_sort(arr))"
   ]
  },
  {
   "cell_type": "code",
   "execution_count": 4,
   "metadata": {},
   "outputs": [
    {
     "name": "stdout",
     "output_type": "stream",
     "text": [
      "Enter the values:9 6 7 5 2 3 1 4 8\n",
      "[1, 2, 3, 4, 5, 6, 7, 8, 9]\n"
     ]
    }
   ],
   "source": [
    "#OPTIMIZED \n",
    "def bubble_sort_op(arr_op):\n",
    "    \n",
    "    for i in range(0,len(arr_op)-1):\n",
    "        swapped = False\n",
    "        for j in range(0,len(arr_op)-1-i):\n",
    "            if arr_op[j] > arr_op[j+1]:\n",
    "                arr_op[j],arr_op[j+1] = arr_op[j+1],arr_op[j]\n",
    "                swapped = True\n",
    "        if swapped == False:\n",
    "            break\n",
    "    \n",
    "    return arr_op\n",
    "\n",
    "\n",
    "arr_op = list(map(int,input(\"Enter the values:\").split()))\n",
    "print(bubble_sort_op(arr_op))"
   ]
  },
  {
   "cell_type": "code",
   "execution_count": null,
   "metadata": {},
   "outputs": [],
   "source": []
  }
 ],
 "metadata": {
  "kernelspec": {
   "display_name": "Python 3",
   "language": "python",
   "name": "python3"
  },
  "language_info": {
   "codemirror_mode": {
    "name": "ipython",
    "version": 3
   },
   "file_extension": ".py",
   "mimetype": "text/x-python",
   "name": "python",
   "nbconvert_exporter": "python",
   "pygments_lexer": "ipython3",
   "version": "3.7.4"
  }
 },
 "nbformat": 4,
 "nbformat_minor": 2
}
