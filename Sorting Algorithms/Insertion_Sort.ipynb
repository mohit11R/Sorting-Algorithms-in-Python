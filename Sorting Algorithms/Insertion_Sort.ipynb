{
 "cells": [
  {
   "cell_type": "markdown",
   "metadata": {},
   "source": [
    "## Insertion Sort\n",
    "\n",
    "##### Algorithm\n",
    "    To sort an array of size n in ascending order:\n",
    "    1: Iterate from arr[1] to arr[n] over the array.\n",
    "    2: Compare the current element (key) to its predecessor.\n",
    "    3: If the key element is smaller than its predecessor, compare it to the elements before. Move the greater elements one position up to make space for the swapped element."
   ]
  },
  {
   "cell_type": "markdown",
   "metadata": {},
   "source": [
    "##### Time complexity\n",
    "    1) Worst and average Case :- O(N^2)\n",
    "    2) Best Case :- O(N)\n",
    "    \n",
    "##### Space complexity:-\n",
    "    1) complexity:- O(1)"
   ]
  },
  {
   "cell_type": "code",
   "execution_count": null,
   "metadata": {},
   "outputs": [],
   "source": [
    "#BRUTE FORCE\n",
    "\n",
    "def insertion_sort_bF(n,A):\n",
    "    for i in range(1,n):\n",
    "        for j in range(i-1,-1,-1):\n",
    "            if A[j] > A[j+1]:\n",
    "                A[j],A[j+1] = A[j+1],A[j]\n",
    "            else:\n",
    "                break\n",
    "    return A\n",
    "\n",
    "\n",
    "n = int(input(\"Enter the size:\"))\n",
    "A= list(map(int,input(\"Values:\").split()))\n",
    "print(insertion_sort_bF(n,A))"
   ]
  },
  {
   "cell_type": "code",
   "execution_count": null,
   "metadata": {},
   "outputs": [],
   "source": [
    "# OPTIMIZED ALGO\n",
    "\n",
    "def insertion_sort_op(n,B):\n",
    "    for i in range(1,n):\n",
    "        key = B[i]\n",
    "        \n",
    "        j = i-1\n",
    "        while j>=0 and key < B[j]:\n",
    "            B[j+1] = B[j] \n",
    "            j -= 1\n",
    "        B[j+1] = key \n",
    "\n",
    "    return B\n",
    "    \n",
    "n = int(input(\"Enter the size:\"))\n",
    "B= list(map(int,input(\"Values:\").split()))\n",
    "print(insertion_sort_op(n,B))"
   ]
  },
  {
   "cell_type": "code",
   "execution_count": null,
   "metadata": {},
   "outputs": [],
   "source": []
  },
  {
   "cell_type": "code",
   "execution_count": null,
   "metadata": {},
   "outputs": [],
   "source": []
  }
 ],
 "metadata": {
  "kernelspec": {
   "display_name": "Python 3",
   "language": "python",
   "name": "python3"
  },
  "language_info": {
   "codemirror_mode": {
    "name": "ipython",
    "version": 3
   },
   "file_extension": ".py",
   "mimetype": "text/x-python",
   "name": "python",
   "nbconvert_exporter": "python",
   "pygments_lexer": "ipython3",
   "version": "3.7.4"
  }
 },
 "nbformat": 4,
 "nbformat_minor": 2
}
