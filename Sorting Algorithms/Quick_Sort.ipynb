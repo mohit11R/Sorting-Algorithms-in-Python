{
 "cells": [
  {
   "cell_type": "markdown",
   "metadata": {},
   "source": [
    "## Quick Sort\n",
    "\n",
    "    QuickSort is a Divide and Conquer algorithm. It picks an element as pivot and partitions the given array around the picked     pivot. There are many different versions of quickSort that pick pivot in different ways. \n",
    "\n",
    "    Always pick first element as pivot.\n",
    "    Always pick last element as pivot (implemented below)\n",
    "    Pick a random element as pivot.\n",
    "    Pick median as pivot.\n",
    "\n",
    "\n",
    "    The key process in quickSort is partition(). Target of partitions is, given an array and an element x of array as pivot,       put x at its correct position in sorted array and put all smaller elements (smaller than x) before x, and put all\n",
    "    greater elements (greater than x) after x. All this should be done in linear time. "
   ]
  },
  {
   "cell_type": "markdown",
   "metadata": {},
   "source": [
    "#### TIme Complexity\n",
    "\n",
    "    1) Worst Case:- O(N^2)\n",
    "    2) Average and Best Case:- O(N logN)\n",
    "    \n",
    "#### Space Complexity\n",
    "    2) Best Case: - O(N)"
   ]
  },
  {
   "cell_type": "code",
   "execution_count": 2,
   "metadata": {},
   "outputs": [
    {
     "name": "stdout",
     "output_type": "stream",
     "text": [
      "Sorted array is:\n",
      "1\n",
      "5\n",
      "7\n",
      "8\n",
      "9\n",
      "10\n"
     ]
    }
   ],
   "source": [
    "# CODE\n",
    "\n",
    "def partition(arr, low, high): \n",
    "    i = (low-1)         # index of smaller element \n",
    "    pivot = arr[high]     # pivot \n",
    "  \n",
    "    for j in range(low, high): \n",
    "  \n",
    "        # If current element is smaller than or \n",
    "        # equal to pivot \n",
    "        if arr[j] <= pivot: \n",
    "  \n",
    "            # increment index of smaller element \n",
    "            i = i+1\n",
    "            arr[i], arr[j] = arr[j], arr[i] \n",
    "  \n",
    "    arr[i+1], arr[high] = arr[high], arr[i+1] \n",
    "    return (i+1) \n",
    "\n",
    "# The main function that implements QuickSort \n",
    "# arr[] --> Array to be sorted, \n",
    "# low  --> Starting index, \n",
    "# high  --> Ending index \n",
    "  \n",
    "# Function to do Quick sort \n",
    "  \n",
    "def quickSort(arr, low, high): \n",
    "    if len(arr) == 1: \n",
    "        return arr \n",
    "    if low < high: \n",
    "  \n",
    "        # pi is partitioning index, arr[p] is now \n",
    "        # at right place \n",
    "        pi = partition(arr, low, high) \n",
    "  \n",
    "        # Separately sort elements before \n",
    "        # partition and after partition \n",
    "        quickSort(arr, low, pi-1) \n",
    "        quickSort(arr, pi+1, high) \n",
    "\n",
    "        \n",
    "arr = [10, 7, 8, 9, 1, 5] \n",
    "n = len(arr) \n",
    "quickSort(arr, 0, n-1) \n",
    "print(\"Sorted array is:\") \n",
    "for i in range(n): \n",
    "    print(\"%d\" % arr[i])\n",
    "  "
   ]
  },
  {
   "cell_type": "code",
   "execution_count": null,
   "metadata": {},
   "outputs": [],
   "source": []
  }
 ],
 "metadata": {
  "kernelspec": {
   "display_name": "Python 3",
   "language": "python",
   "name": "python3"
  },
  "language_info": {
   "codemirror_mode": {
    "name": "ipython",
    "version": 3
   },
   "file_extension": ".py",
   "mimetype": "text/x-python",
   "name": "python",
   "nbconvert_exporter": "python",
   "pygments_lexer": "ipython3",
   "version": "3.7.4"
  }
 },
 "nbformat": 4,
 "nbformat_minor": 2
}
