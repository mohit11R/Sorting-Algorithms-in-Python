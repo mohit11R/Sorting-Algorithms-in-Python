{
 "cells": [
  {
   "cell_type": "markdown",
   "metadata": {},
   "source": [
    "## Selection Sort\n",
    "\n",
    "##### Algorithm\n",
    "    The selection sort algorithm sorts an array by repeatedly finding the minimum element (considering ascending order) from       unsorted part and putting it at the beginning. The algorithm maintains two subarrays in a given array.\n",
    "\n",
    "    1) The subarray which is already sorted.\n",
    "    2) Remaining subarray which is unsorted.\n",
    "\n",
    "    In every iteration of selection sort, the minimum element (considering ascending order) from the unsorted subarray is           picked and moved to the sorted subarray."
   ]
  },
  {
   "cell_type": "markdown",
   "metadata": {},
   "source": [
    "##### TIme complexity\n",
    "        1) Worst and average Case:- O(N^2)\n",
    "        2) Best Case:- O(N^2)\n",
    "        \n",
    "##### Space complexity\n",
    "        1)Best complexity:- O(1)"
   ]
  },
  {
   "cell_type": "code",
   "execution_count": 6,
   "metadata": {},
   "outputs": [
    {
     "name": "stdout",
     "output_type": "stream",
     "text": [
      "Enter the Values:6 8 2 4 9 3\n",
      "[2, 3, 4, 6, 8, 9]\n"
     ]
    }
   ],
   "source": [
    "#code \n",
    "\n",
    "def selection_sort(arr):\n",
    "    for i in range(0,len(arr)-1):\n",
    "        min_index = i\n",
    "        for j in range(i+1,len(arr)):\n",
    "            if arr[j] < arr[min_index]:\n",
    "                min_index = j\n",
    "        if min_index!=i:\n",
    "            arr[i],arr[min_index] = arr[min_index],arr[i]\n",
    "            \n",
    "    return arr\n",
    "\n",
    "\n",
    "\n",
    "arr = list(map(int,input(\"Enter the Values:\").split()))\n",
    "print(selection_sort(arr))\n"
   ]
  },
  {
   "cell_type": "code",
   "execution_count": null,
   "metadata": {},
   "outputs": [],
   "source": []
  }
 ],
 "metadata": {
  "kernelspec": {
   "display_name": "Python 3",
   "language": "python",
   "name": "python3"
  },
  "language_info": {
   "codemirror_mode": {
    "name": "ipython",
    "version": 3
   },
   "file_extension": ".py",
   "mimetype": "text/x-python",
   "name": "python",
   "nbconvert_exporter": "python",
   "pygments_lexer": "ipython3",
   "version": "3.7.4"
  }
 },
 "nbformat": 4,
 "nbformat_minor": 2
}
